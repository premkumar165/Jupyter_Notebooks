{
 "cells": [
  {
   "cell_type": "code",
   "execution_count": 2,
   "metadata": {},
   "outputs": [
    {
     "ename": "SyntaxError",
     "evalue": "invalid syntax (<ipython-input-2-c47f0b9994a7>, line 2)",
     "output_type": "error",
     "traceback": [
      "\u001b[0;36m  File \u001b[0;32m\"<ipython-input-2-c47f0b9994a7>\"\u001b[0;36m, line \u001b[0;32m2\u001b[0m\n\u001b[0;31m    IPerl->load_plugin( \"PDLGraphicsGnuplot\" );\u001b[0m\n\u001b[0m          ^\u001b[0m\n\u001b[0;31mSyntaxError\u001b[0m\u001b[0;31m:\u001b[0m invalid syntax\n"
     ]
    }
   ],
   "source": [
    "import IPerl\n",
    "IPerl->load_plugin( \"PDLGraphicsGnuplot\" );\n",
    "use PDL;\n",
    "use PDL::Graphics::Gnuplot;\n",
    "use PDL::Constants qw(PI);\n",
    "\n",
    "my $gp = gpwin();\n",
    "# do some styling\n",
    "$gp->option( topcmd => <<'GP');\n",
    "# define axis\n",
    "# remove border on top and right and set color to gray\n",
    "set style line 11 lc rgb '#808080' lt 1\n",
    "set border 3 back ls 11\n",
    "set tics nomirror\n",
    "\n",
    "# define grid\n",
    "set style line 12 lc rgb '#808080' lt 0 lw 1\n",
    "set grid back ls 12\n",
    "GP\n",
    "\n",
    "my $theta = zeros(200)->xlinvals(-1*PI, 1*PI);\n",
    "\n",
    "$gp->plot( { lw => 2 }, $theta, sin($theta), {}, $theta, cos($theta)  );\n",
    "\n",
    "IPerl->display( IPerl->tex( q| $\\sin\\theta$ and $\\cos\\theta$ | ) );\n",
    "\n",
    "$gp;"
   ]
  },
  {
   "cell_type": "code",
   "execution_count": null,
   "metadata": {},
   "outputs": [],
   "source": []
  }
 ],
 "metadata": {
  "kernelspec": {
   "display_name": "Python 2",
   "language": "python",
   "name": "python2"
  },
  "language_info": {
   "codemirror_mode": {
    "name": "ipython",
    "version": 2
   },
   "file_extension": ".py",
   "mimetype": "text/x-python",
   "name": "python",
   "nbconvert_exporter": "python",
   "pygments_lexer": "ipython2",
   "version": "2.7.17"
  }
 },
 "nbformat": 4,
 "nbformat_minor": 4
}
